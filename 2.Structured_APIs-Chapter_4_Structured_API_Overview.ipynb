{
 "cells": [
  {
   "cell_type": "code",
   "execution_count": 5,
   "id": "15285d31-8b2f-4f75-977c-21b696f885e3",
   "metadata": {},
   "outputs": [],
   "source": [
    "from pyspark.sql import SparkSession\n",
    "import pyspark.sql.functions as F\n",
    "import pyspark.sql.types as T"
   ]
  },
  {
   "cell_type": "code",
   "execution_count": 6,
   "id": "ba94fe44-0456-4821-a8b8-a283b11b3fdd",
   "metadata": {},
   "outputs": [],
   "source": [
    "spark = SparkSession.builder.master(\"local[*]\").getOrCreate()"
   ]
  },
  {
   "cell_type": "code",
   "execution_count": 10,
   "id": "95819f28-70d2-4594-b134-3494488aa1fb",
   "metadata": {},
   "outputs": [
    {
     "name": "stdout",
     "output_type": "stream",
     "text": [
      "+---+\n",
      "| id|\n",
      "+---+\n",
      "|  0|\n",
      "|  1|\n",
      "+---+\n",
      "only showing top 2 rows\n",
      "\n"
     ]
    }
   ],
   "source": [
    "spark.range(500).show(2)  # .toDF(\"number\")"
   ]
  },
  {
   "cell_type": "code",
   "execution_count": 9,
   "id": "cae7e37d-f3f2-4958-9b2d-d3e48cc4eec6",
   "metadata": {},
   "outputs": [
    {
     "name": "stdout",
     "output_type": "stream",
     "text": [
      "+------+\n",
      "|number|\n",
      "+------+\n",
      "|     0|\n",
      "|     1|\n",
      "+------+\n",
      "only showing top 2 rows\n",
      "\n"
     ]
    }
   ],
   "source": [
    "df = spark.range(500).toDF(\"number\")\n",
    "df.show(2)"
   ]
  },
  {
   "cell_type": "code",
   "execution_count": 11,
   "id": "2ac6ea45-4534-4dc2-9036-4bf268d96170",
   "metadata": {},
   "outputs": [
    {
     "name": "stdout",
     "output_type": "stream",
     "text": [
      "+----------+\n",
      "|new_number|\n",
      "+----------+\n",
      "|        10|\n",
      "|        11|\n",
      "|        12|\n",
      "|        13|\n",
      "|        14|\n",
      "|        15|\n",
      "|        16|\n",
      "|        17|\n",
      "|        18|\n",
      "|        19|\n",
      "|        20|\n",
      "|        21|\n",
      "|        22|\n",
      "|        23|\n",
      "|        24|\n",
      "|        25|\n",
      "|        26|\n",
      "|        27|\n",
      "|        28|\n",
      "|        29|\n",
      "+----------+\n",
      "only showing top 20 rows\n",
      "\n"
     ]
    }
   ],
   "source": [
    "df2 = df.select(F.col(\"number\") + F.lit(10)).toDF(\"new_number\")\n",
    "df2.show()"
   ]
  },
  {
   "cell_type": "code",
   "execution_count": 17,
   "id": "24a07fe0-7ba6-47bc-856c-d26ad795556a",
   "metadata": {},
   "outputs": [
    {
     "name": "stdout",
     "output_type": "stream",
     "text": [
      "+------+----------+\n",
      "|number|new_number|\n",
      "+------+----------+\n",
      "|     0|        10|\n",
      "|     1|        11|\n",
      "|     2|        12|\n",
      "|     3|        13|\n",
      "|     4|        14|\n",
      "|     5|        15|\n",
      "|     6|        16|\n",
      "|     7|        17|\n",
      "|     8|        18|\n",
      "|     9|        19|\n",
      "|    10|        20|\n",
      "|    11|        21|\n",
      "|    12|        22|\n",
      "|    13|        23|\n",
      "|    14|        24|\n",
      "|    15|        25|\n",
      "|    16|        26|\n",
      "|    17|        27|\n",
      "|    18|        28|\n",
      "|    19|        29|\n",
      "+------+----------+\n",
      "only showing top 20 rows\n",
      "\n"
     ]
    }
   ],
   "source": [
    "df2 = df.withColumn(\n",
    "    \"new_number\", \n",
    "    F.col(\"number\") + F.lit(10)\n",
    ")\n",
    "df2.show()"
   ]
  },
  {
   "cell_type": "code",
   "execution_count": 21,
   "id": "04d145ac-3546-4534-a7cc-6da1a59730ab",
   "metadata": {},
   "outputs": [
    {
     "name": "stdout",
     "output_type": "stream",
     "text": [
      "[Row(number=0, new_number=10), Row(number=1, new_number=11), Row(number=2, new_number=12)]\n"
     ]
    }
   ],
   "source": [
    "collected = df2.collect()[:3]\n",
    "print(collected)"
   ]
  },
  {
   "cell_type": "code",
   "execution_count": 23,
   "id": "5dd3ca2e-8ae4-48b2-bd75-1a464e727b97",
   "metadata": {},
   "outputs": [
    {
     "name": "stdout",
     "output_type": "stream",
     "text": [
      "[(0, 10), (1, 11), (2, 12)]\n"
     ]
    }
   ],
   "source": [
    "print([(row.number, row.new_number) for row in collected])"
   ]
  },
  {
   "cell_type": "code",
   "execution_count": 25,
   "id": "26a81a29-e199-4781-92db-b055a1c8e730",
   "metadata": {},
   "outputs": [
    {
     "name": "stdout",
     "output_type": "stream",
     "text": [
      "ByteType()\n",
      "<class 'pyspark.sql.types.ByteType'>\n"
     ]
    }
   ],
   "source": [
    "bytetype = T.ByteType()\n",
    "print(bytetype)\n",
    "print(type(bytetype))"
   ]
  }
 ],
 "metadata": {
  "kernelspec": {
   "display_name": "Python 3 (ipykernel)",
   "language": "python",
   "name": "python3"
  },
  "language_info": {
   "codemirror_mode": {
    "name": "ipython",
    "version": 3
   },
   "file_extension": ".py",
   "mimetype": "text/x-python",
   "name": "python",
   "nbconvert_exporter": "python",
   "pygments_lexer": "ipython3",
   "version": "3.11.5"
  }
 },
 "nbformat": 4,
 "nbformat_minor": 5
}
