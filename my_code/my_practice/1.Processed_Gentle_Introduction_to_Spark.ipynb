{
 "cells": [
  {
   "cell_type": "code",
   "execution_count": 78,
   "id": "236853f5",
   "metadata": {},
   "outputs": [],
   "source": [
    "from pyspark.sql import SparkSession\n",
    "import pyspark.sql.functions as F"
   ]
  },
  {
   "cell_type": "code",
   "execution_count": 79,
   "id": "2c727036",
   "metadata": {
    "lines_to_next_cell": 2
   },
   "outputs": [],
   "source": [
    "import sys\n",
    "\n",
    "# Add the path to your module's directory\n",
    "sys.path.append('/home/vladyslav_podrazhanskyi/projects/PERSONAL/python/learn_spark')\n",
    "\n",
    "# Now you can import your \n",
    "from my_code.utils import ROOT"
   ]
  },
  {
   "cell_type": "code",
   "execution_count": 80,
   "id": "7249dcb2",
   "metadata": {},
   "outputs": [
    {
     "name": "stdout",
     "output_type": "stream",
     "text": [
      "<pyspark.sql.session.SparkSession object at 0x7eff75d88950>\n"
     ]
    }
   ],
   "source": [
    "spark = SparkSession.builder.master(\"local[*]\").getOrCreate()\n",
    "print(spark)"
   ]
  },
  {
   "cell_type": "code",
   "execution_count": 81,
   "id": "10de886d",
   "metadata": {
    "lines_to_next_cell": 2
   },
   "outputs": [
    {
     "name": "stdout",
     "output_type": "stream",
     "text": [
      "+------+\n",
      "|number|\n",
      "+------+\n",
      "|     0|\n",
      "|     1|\n",
      "|     2|\n",
      "|     3|\n",
      "|     4|\n",
      "|     5|\n",
      "|     6|\n",
      "|     7|\n",
      "|     8|\n",
      "|     9|\n",
      "|    10|\n",
      "|    11|\n",
      "|    12|\n",
      "|    13|\n",
      "|    14|\n",
      "|    15|\n",
      "|    16|\n",
      "|    17|\n",
      "|    18|\n",
      "|    19|\n",
      "+------+\n",
      "only showing top 20 rows\n",
      "\n"
     ]
    }
   ],
   "source": [
    "myRange = spark.range(1000).toDF(\"number\")\n",
    "myRange.show()"
   ]
  },
  {
   "cell_type": "code",
   "execution_count": 82,
   "id": "eab6eea5",
   "metadata": {},
   "outputs": [],
   "source": [
    "divisBy2 = myRange.where(\"number % 2 = 0\")"
   ]
  },
  {
   "cell_type": "code",
   "execution_count": 83,
   "id": "e236e2b9",
   "metadata": {},
   "outputs": [],
   "source": [
    "flightData2015 = spark \\\n",
    "    .read \\\n",
    "    .option(\"inferSchema\", \"true\") \\\n",
    "    .option(\"header\", \"true\") \\\n",
    "    .csv(f\"{ROOT}/source_data/flight-data/csv/2015-summary.csv\")"
   ]
  },
  {
   "cell_type": "code",
   "execution_count": 84,
   "id": "d225a20a",
   "metadata": {},
   "outputs": [
    {
     "name": "stdout",
     "output_type": "stream",
     "text": [
      "+--------------------+-------------------+-----+\n",
      "|   DEST_COUNTRY_NAME|ORIGIN_COUNTRY_NAME|count|\n",
      "+--------------------+-------------------+-----+\n",
      "|       United States|            Romania|   15|\n",
      "|       United States|            Croatia|    1|\n",
      "|       United States|            Ireland|  344|\n",
      "|               Egypt|      United States|   15|\n",
      "|       United States|              India|   62|\n",
      "|       United States|          Singapore|    1|\n",
      "|       United States|            Grenada|   62|\n",
      "|          Costa Rica|      United States|  588|\n",
      "|             Senegal|      United States|   40|\n",
      "|             Moldova|      United States|    1|\n",
      "|       United States|       Sint Maarten|  325|\n",
      "|       United States|   Marshall Islands|   39|\n",
      "|              Guyana|      United States|   64|\n",
      "|               Malta|      United States|    1|\n",
      "|            Anguilla|      United States|   41|\n",
      "|             Bolivia|      United States|   30|\n",
      "|       United States|           Paraguay|    6|\n",
      "|             Algeria|      United States|    4|\n",
      "|Turks and Caicos ...|      United States|  230|\n",
      "|       United States|          Gibraltar|    1|\n",
      "+--------------------+-------------------+-----+\n",
      "only showing top 20 rows\n",
      "\n"
     ]
    }
   ],
   "source": [
    "flightData2015.show()"
   ]
  },
  {
   "cell_type": "code",
   "execution_count": 85,
   "id": "a6532028",
   "metadata": {},
   "outputs": [
    {
     "name": "stdout",
     "output_type": "stream",
     "text": [
      "<class 'pyspark.sql.types.Row'>\n"
     ]
    }
   ],
   "source": [
    "print(type(flightData2015.take(3)[0]))   # <class 'pyspark.sql.types.Row'>"
   ]
  },
  {
   "cell_type": "code",
   "execution_count": 86,
   "id": "43d0d48e",
   "metadata": {},
   "outputs": [
    {
     "data": {
      "text/plain": [
       "[Row(DEST_COUNTRY_NAME='United States', ORIGIN_COUNTRY_NAME='Romania', count=15),\n",
       " Row(DEST_COUNTRY_NAME='United States', ORIGIN_COUNTRY_NAME='Croatia', count=1),\n",
       " Row(DEST_COUNTRY_NAME='United States', ORIGIN_COUNTRY_NAME='Ireland', count=344)]"
      ]
     },
     "execution_count": 86,
     "metadata": {},
     "output_type": "execute_result"
    }
   ],
   "source": [
    "\n",
    "flightData2015.take(3)\n",
    "# [Row(DEST_COUNTRY_NAME='United States', ORIGIN_COUNTRY_NAME='Romania', count=15),\n",
    "# Row(DEST_COUNTRY_NAME='United States', ORIGIN_COUNTRY_NAME='Croatia', count=1),\n",
    "# Row(DEST_COUNTRY_NAME='United States', ORIGIN_COUNTRY_NAME='Ireland', count=344)]\n",
    "# \"\"\""
   ]
  },
  {
   "cell_type": "code",
   "execution_count": 87,
   "id": "214adf0d",
   "metadata": {},
   "outputs": [
    {
     "name": "stdout",
     "output_type": "stream",
     "text": [
      "+------------------+-------------------+------+\n",
      "| DEST_COUNTRY_NAME|ORIGIN_COUNTRY_NAME| count|\n",
      "+------------------+-------------------+------+\n",
      "|     United States|      United States|370002|\n",
      "|     United States|             Canada|  8483|\n",
      "|            Canada|      United States|  8399|\n",
      "|     United States|             Mexico|  7187|\n",
      "|            Mexico|      United States|  7140|\n",
      "|    United Kingdom|      United States|  2025|\n",
      "|     United States|     United Kingdom|  1970|\n",
      "|             Japan|      United States|  1548|\n",
      "|     United States|              Japan|  1496|\n",
      "|           Germany|      United States|  1468|\n",
      "|     United States| Dominican Republic|  1420|\n",
      "|Dominican Republic|      United States|  1353|\n",
      "|     United States|            Germany|  1336|\n",
      "|       South Korea|      United States|  1048|\n",
      "|     United States|        The Bahamas|   986|\n",
      "|       The Bahamas|      United States|   955|\n",
      "|     United States|             France|   952|\n",
      "|            France|      United States|   935|\n",
      "|     United States|              China|   920|\n",
      "|          Colombia|      United States|   873|\n",
      "+------------------+-------------------+------+\n",
      "only showing top 20 rows\n",
      "\n"
     ]
    }
   ],
   "source": [
    "flightData2015.sort(\"count\", ascending=False).show()"
   ]
  },
  {
   "cell_type": "code",
   "execution_count": 88,
   "id": "05f93724",
   "metadata": {
    "lines_to_next_cell": 2
   },
   "outputs": [
    {
     "name": "stdout",
     "output_type": "stream",
     "text": [
      "+------------------+-------------------+-----+\n",
      "| DEST_COUNTRY_NAME|ORIGIN_COUNTRY_NAME|count|\n",
      "+------------------+-------------------+-----+\n",
      "|            Canada|      United States| 8399|\n",
      "|            Mexico|      United States| 7140|\n",
      "|    United Kingdom|      United States| 2025|\n",
      "|             Japan|      United States| 1548|\n",
      "|           Germany|      United States| 1468|\n",
      "|Dominican Republic|      United States| 1353|\n",
      "|       South Korea|      United States| 1048|\n",
      "|       The Bahamas|      United States|  955|\n",
      "|            France|      United States|  935|\n",
      "|          Colombia|      United States|  873|\n",
      "|            Brazil|      United States|  853|\n",
      "|       Netherlands|      United States|  776|\n",
      "|             China|      United States|  772|\n",
      "|           Jamaica|      United States|  666|\n",
      "|        Costa Rica|      United States|  588|\n",
      "|       El Salvador|      United States|  561|\n",
      "|            Panama|      United States|  510|\n",
      "|              Cuba|      United States|  466|\n",
      "|             Spain|      United States|  420|\n",
      "|         Guatemala|      United States|  397|\n",
      "+------------------+-------------------+-----+\n",
      "only showing top 20 rows\n",
      "\n"
     ]
    }
   ],
   "source": [
    "(\n",
    "    flightData2015\n",
    "    .where(F.col(\"DEST_COUNTRY_NAME\") != 'United States')\n",
    "    .sort(\"count\", ascending=False)\n",
    "    .show()\n",
    ")"
   ]
  },
  {
   "cell_type": "code",
   "execution_count": 89,
   "id": "e0ada9e3",
   "metadata": {},
   "outputs": [],
   "source": [
    "# You can make any DataFrame into a table or view with one simple method call:\n",
    "flightData2015.createOrReplaceTempView(\"flight_data_2015\")"
   ]
  },
  {
   "cell_type": "code",
   "execution_count": 90,
   "id": "c8bac135",
   "metadata": {},
   "outputs": [],
   "source": [
    "sqlWay = spark.sql(\"\"\"\n",
    "SELECT DEST_COUNTRY_NAME, Sum(count) AS sum\n",
    "FROM flight_data_2015\n",
    "GROUP BY DEST_COUNTRY_NAME\n",
    "ORDER BY sum DESC\n",
    "\"\"\")"
   ]
  },
  {
   "cell_type": "code",
   "execution_count": 91,
   "id": "13b90904",
   "metadata": {},
   "outputs": [
    {
     "name": "stdout",
     "output_type": "stream",
     "text": [
      "+------------------+------+\n",
      "| DEST_COUNTRY_NAME|   sum|\n",
      "+------------------+------+\n",
      "|     United States|411352|\n",
      "|            Canada|  8399|\n",
      "|            Mexico|  7140|\n",
      "|    United Kingdom|  2025|\n",
      "|             Japan|  1548|\n",
      "|           Germany|  1468|\n",
      "|Dominican Republic|  1353|\n",
      "|       South Korea|  1048|\n",
      "|       The Bahamas|   955|\n",
      "|            France|   935|\n",
      "|          Colombia|   873|\n",
      "|            Brazil|   853|\n",
      "|       Netherlands|   776|\n",
      "|             China|   772|\n",
      "|           Jamaica|   666|\n",
      "|        Costa Rica|   588|\n",
      "|       El Salvador|   561|\n",
      "|            Panama|   510|\n",
      "|              Cuba|   466|\n",
      "|             Spain|   420|\n",
      "+------------------+------+\n",
      "only showing top 20 rows\n",
      "\n"
     ]
    }
   ],
   "source": [
    "sqlWay.show()"
   ]
  },
  {
   "cell_type": "code",
   "execution_count": 92,
   "id": "8ef859b5",
   "metadata": {
    "lines_to_next_cell": 2
   },
   "outputs": [
    {
     "name": "stdout",
     "output_type": "stream",
     "text": [
      "+------------------+------+\n",
      "| DEST_COUNTRY_NAME|   sum|\n",
      "+------------------+------+\n",
      "|     United States|411352|\n",
      "|            Canada|  8399|\n",
      "|            Mexico|  7140|\n",
      "|    United Kingdom|  2025|\n",
      "|             Japan|  1548|\n",
      "|           Germany|  1468|\n",
      "|Dominican Republic|  1353|\n",
      "|       South Korea|  1048|\n",
      "|       The Bahamas|   955|\n",
      "|            France|   935|\n",
      "|          Colombia|   873|\n",
      "|            Brazil|   853|\n",
      "|       Netherlands|   776|\n",
      "|             China|   772|\n",
      "|           Jamaica|   666|\n",
      "|        Costa Rica|   588|\n",
      "|       El Salvador|   561|\n",
      "|            Panama|   510|\n",
      "|              Cuba|   466|\n",
      "|             Spain|   420|\n",
      "+------------------+------+\n",
      "only showing top 20 rows\n",
      "\n"
     ]
    }
   ],
   "source": [
    "dataFrameWay = flightData2015 \\\n",
    "    .groupBy(\"DEST_COUNTRY_NAME\") \\\n",
    "    .sum(\"count\") \\\n",
    "    .withColumnRenamed(\"sum(count)\", \"sum\") \\\n",
    "    .orderBy(\"sum\", ascending=False)\n",
    "\n",
    "dataFrameWay.show()"
   ]
  },
  {
   "cell_type": "code",
   "execution_count": 93,
   "id": "beeb9073",
   "metadata": {},
   "outputs": [
    {
     "name": "stdout",
     "output_type": "stream",
     "text": [
      "== Physical Plan ==\n",
      "*(1) Filter (isnotnull(DEST_COUNTRY_NAME#620) AND NOT (DEST_COUNTRY_NAME#620 = Unites States))\n",
      "+- FileScan csv [DEST_COUNTRY_NAME#620,ORIGIN_COUNTRY_NAME#621,count#622] Batched: false, DataFilters: [isnotnull(DEST_COUNTRY_NAME#620), NOT (DEST_COUNTRY_NAME#620 = Unites States)], Format: CSV, Location: InMemoryFileIndex(1 paths)[file:/home/vladyslav_podrazhanskyi/projects/PERSONAL/python/learn_spar..., PartitionFilters: [], PushedFilters: [IsNotNull(DEST_COUNTRY_NAME), Not(EqualTo(DEST_COUNTRY_NAME,Unites States))], ReadSchema: struct<DEST_COUNTRY_NAME:string,ORIGIN_COUNTRY_NAME:string,count:int>\n",
      "\n",
      "\n"
     ]
    }
   ],
   "source": [
    "(\n",
    "    flightData2015\n",
    "    .where(F.col('DEST_COUNTRY_NAME') != \"Unites States\")\n",
    "    .explain()\n",
    ")"
   ]
  },
  {
   "cell_type": "markdown",
   "id": "a9ea3455",
   "metadata": {},
   "source": [
    "== Physical Plan =="
   ]
  },
  {
   "cell_type": "markdown",
   "id": "1ac9738a",
   "metadata": {},
   "source": [
    "*(1) Filter (isnotnull(DEST_COUNTRY_NAME#20) AND NOT (DEST_COUNTRY_NAME#20 = Unites States))"
   ]
  },
  {
   "cell_type": "markdown",
   "id": "5e8db17e",
   "metadata": {
    "lines_to_next_cell": 2
   },
   "source": [
    "FileScan csv [DEST_COUNTRY_NAME#20,ORIGIN_COUNTRY_NAME#21,count#22]\n",
    "Batched: false,\n",
    "DataFilters: [],\n",
    "Format: CSV,\n",
    "Location: InMemoryFileIndex(1 paths)[file:/home/vladyslav_podrazhanskyi/projects/PERSONAL/python/learn_spar...,\n",
    "PartitionFilters: [],\n",
    "PushedFilters: [],\n",
    "ReadSchema: struct<DEST_COUNTRY_NAME:string,ORIGIN_COUNTRY_NAME:string,count:int>"
   ]
  },
  {
   "cell_type": "code",
   "execution_count": 94,
   "id": "fe3a488f",
   "metadata": {},
   "outputs": [
    {
     "name": "stdout",
     "output_type": "stream",
     "text": [
      "== Physical Plan ==\n",
      "AdaptiveSparkPlan isFinalPlan=false\n",
      "+- Sort [count#622 DESC NULLS LAST], true, 0\n",
      "   +- Exchange rangepartitioning(count#622 DESC NULLS LAST, 200), ENSURE_REQUIREMENTS, [plan_id=1233]\n",
      "      +- FileScan csv [DEST_COUNTRY_NAME#620,ORIGIN_COUNTRY_NAME#621,count#622] Batched: false, DataFilters: [], Format: CSV, Location: InMemoryFileIndex(1 paths)[file:/home/vladyslav_podrazhanskyi/projects/PERSONAL/python/learn_spar..., PartitionFilters: [], PushedFilters: [], ReadSchema: struct<DEST_COUNTRY_NAME:string,ORIGIN_COUNTRY_NAME:string,count:int>\n",
      "\n",
      "\n"
     ]
    }
   ],
   "source": [
    "(\n",
    "    flightData2015\n",
    "    .sort('count', ascending=False)\n",
    "    .explain()\n",
    ")"
   ]
  },
  {
   "cell_type": "markdown",
   "id": "fd002bdf",
   "metadata": {
    "lines_to_next_cell": 2
   },
   "source": [
    "== Physical Plan ==\n",
    "AdaptiveSparkPlan isFinalPlan=false\n",
    "+- Sort [count#22 ASC NULLS FIRST], true, 0\n",
    "   +- Exchange rangepartitioning(count#22 ASC NULLS FIRST, 200), ENSURE_REQUIREMENTS, [id=#124]\n",
    "      +- FileScan csv[DEST_COUNTRY_NAME  # 20,ORIGIN_COUNTRY_NAME#21,count#22]...."
   ]
  },
  {
   "cell_type": "code",
   "execution_count": 95,
   "id": "86281000",
   "metadata": {},
   "outputs": [
    {
     "name": "stdout",
     "output_type": "stream",
     "text": [
      "== Physical Plan ==\n",
      "AdaptiveSparkPlan isFinalPlan=false\n",
      "+- Sort [sum#681L DESC NULLS LAST], true, 0\n",
      "   +- Exchange rangepartitioning(sum#681L DESC NULLS LAST, 200), ENSURE_REQUIREMENTS, [plan_id=1253]\n",
      "      +- HashAggregate(keys=[DEST_COUNTRY_NAME#620], functions=[sum(count#622)])\n",
      "         +- Exchange hashpartitioning(DEST_COUNTRY_NAME#620, 200), ENSURE_REQUIREMENTS, [plan_id=1250]\n",
      "            +- HashAggregate(keys=[DEST_COUNTRY_NAME#620], functions=[partial_sum(count#622)])\n",
      "               +- FileScan csv [DEST_COUNTRY_NAME#620,count#622] Batched: false, DataFilters: [], Format: CSV, Location: InMemoryFileIndex(1 paths)[file:/home/vladyslav_podrazhanskyi/projects/PERSONAL/python/learn_spar..., PartitionFilters: [], PushedFilters: [], ReadSchema: struct<DEST_COUNTRY_NAME:string,count:int>\n",
      "\n",
      "\n"
     ]
    }
   ],
   "source": [
    "sqlWay.explain()"
   ]
  },
  {
   "cell_type": "markdown",
   "id": "3381a229",
   "metadata": {},
   "source": [
    "== Physical Plan ==\n",
    "AdaptiveSparkPlan isFinalPlan=false\n",
    "+- Sort [sum#77L DESC NULLS LAST], true, 0\n",
    "   +- Exchange rangepartitioning(sum#77L DESC NULLS LAST, 200), ENSURE_REQUIREMENTS, [id=#144]\n",
    "      +- HashAggregate(keys=[DEST_COUNTRY_NAME#20], functions=[sum(count#22)])\n",
    "         +- Exchange hashpartitioning(DEST_COUNTRY_NAME#20, 200), ENSURE_REQUIREMENTS, [id=#141]\n",
    "            +- HashAggregate(keys=[DEST_COUNTRY_NAME#20], functions=[partial_sum(count#22)])\n",
    "               +- FileScan csv [DEST_COUNTRY_NAME#20,count#22] Batched: false, DataFil"
   ]
  },
  {
   "cell_type": "code",
   "execution_count": 96,
   "id": "fbf94a86",
   "metadata": {
    "lines_to_next_cell": 0
   },
   "outputs": [
    {
     "name": "stdout",
     "output_type": "stream",
     "text": [
      "== Physical Plan ==\n",
      "AdaptiveSparkPlan isFinalPlan=false\n",
      "+- Sort [sum#707L DESC NULLS LAST], true, 0\n",
      "   +- Exchange rangepartitioning(sum#707L DESC NULLS LAST, 200), ENSURE_REQUIREMENTS, [plan_id=1273]\n",
      "      +- HashAggregate(keys=[DEST_COUNTRY_NAME#620], functions=[sum(count#622)])\n",
      "         +- Exchange hashpartitioning(DEST_COUNTRY_NAME#620, 200), ENSURE_REQUIREMENTS, [plan_id=1270]\n",
      "            +- HashAggregate(keys=[DEST_COUNTRY_NAME#620], functions=[partial_sum(count#622)])\n",
      "               +- FileScan csv [DEST_COUNTRY_NAME#620,count#622] Batched: false, DataFilters: [], Format: CSV, Location: InMemoryFileIndex(1 paths)[file:/home/vladyslav_podrazhanskyi/projects/PERSONAL/python/learn_spar..., PartitionFilters: [], PushedFilters: [], ReadSchema: struct<DEST_COUNTRY_NAME:string,count:int>\n",
      "\n",
      "\n"
     ]
    }
   ],
   "source": [
    "dataFrameWay.explain()\n",
    "# == Physical Plan ==\n",
    "# AdaptiveSparkPlan isFinalPlan=false"
   ]
  },
  {
   "cell_type": "code",
   "execution_count": 97,
   "id": "6a48c29f",
   "metadata": {
    "title": "- FileScan csv"
   },
   "outputs": [
    {
     "name": "stdout",
     "output_type": "stream",
     "text": [
      "[Row(max(count)=370002)]\n"
     ]
    }
   ],
   "source": [
    "print(flightData2015.select(F.max(\"count\")).take(1))  \n",
    "\n"
   ]
  },
  {
   "cell_type": "code",
   "execution_count": 98,
   "id": "ca827138-8ef8-41c8-87eb-0db54f88cbbc",
   "metadata": {},
   "outputs": [
    {
     "name": "stdout",
     "output_type": "stream",
     "text": [
      "maxSql\n",
      "+-----------------+-----------------+\n",
      "|DEST_COUNTRY_NAME|destination_total|\n",
      "+-----------------+-----------------+\n",
      "|    United States|           411352|\n",
      "|           Canada|             8399|\n",
      "|           Mexico|             7140|\n",
      "|   United Kingdom|             2025|\n",
      "|            Japan|             1548|\n",
      "+-----------------+-----------------+\n",
      "\n"
     ]
    }
   ],
   "source": [
    "maxSql = spark.sql(\"\"\"\n",
    "SELECT DEST_COUNTRY_NAME, sum(count) as destination_total\n",
    "FROM flight_data_2015\n",
    "GROUP BY DEST_COUNTRY_NAME\n",
    "ORDER BY sum(count) DESC\n",
    "LIMIT 5\n",
    "\"\"\")\n",
    "\n",
    "print('maxSql')\n",
    "maxSql.show()\n",
    "\n"
   ]
  },
  {
   "cell_type": "code",
   "execution_count": 99,
   "id": "71770934-e073-4b2b-bedb-bbd0f3a5f5bf",
   "metadata": {},
   "outputs": [
    {
     "name": "stdout",
     "output_type": "stream",
     "text": [
      "+-----------------+------+\n",
      "|DEST_COUNTRY_NAME|   sum|\n",
      "+-----------------+------+\n",
      "|    United States|411352|\n",
      "|           Canada|  8399|\n",
      "|           Mexico|  7140|\n",
      "|   United Kingdom|  2025|\n",
      "|            Japan|  1548|\n",
      "+-----------------+------+\n",
      "\n"
     ]
    }
   ],
   "source": [
    "flightData2015 \\\n",
    "    .groupBy(\"DEST_COUNTRY_NAME\") \\\n",
    "    .sum(\"count\") \\\n",
    "    .withColumnRenamed(\"sum(count)\", \"sum\") \\\n",
    "    .sort(F.desc(\"sum\")) \\\n",
    "    .limit(5) \\\n",
    "    .show()\n",
    "\n",
    "\n"
   ]
  },
  {
   "cell_type": "code",
   "execution_count": 100,
   "id": "6701f451-aeaf-4fda-882e-6c48ee6327bc",
   "metadata": {},
   "outputs": [
    {
     "name": "stdout",
     "output_type": "stream",
     "text": [
      "+--------------------+-------------------+-----+\n",
      "|   DEST_COUNTRY_NAME|ORIGIN_COUNTRY_NAME|count|\n",
      "+--------------------+-------------------+-----+\n",
      "|       United States|            Romania|   15|\n",
      "|       United States|            Croatia|    1|\n",
      "|       United States|            Ireland|  344|\n",
      "|               Egypt|      United States|   15|\n",
      "|       United States|              India|   62|\n",
      "|       United States|          Singapore|    1|\n",
      "|       United States|            Grenada|   62|\n",
      "|          Costa Rica|      United States|  588|\n",
      "|             Senegal|      United States|   40|\n",
      "|             Moldova|      United States|    1|\n",
      "|       United States|       Sint Maarten|  325|\n",
      "|       United States|   Marshall Islands|   39|\n",
      "|              Guyana|      United States|   64|\n",
      "|               Malta|      United States|    1|\n",
      "|            Anguilla|      United States|   41|\n",
      "|             Bolivia|      United States|   30|\n",
      "|       United States|           Paraguay|    6|\n",
      "|             Algeria|      United States|    4|\n",
      "|Turks and Caicos ...|      United States|  230|\n",
      "|       United States|          Gibraltar|    1|\n",
      "+--------------------+-------------------+-----+\n",
      "only showing top 20 rows\n",
      "\n"
     ]
    }
   ],
   "source": [
    "flightData2015.show()"
   ]
  },
  {
   "cell_type": "code",
   "execution_count": 101,
   "id": "d6e377b4-dd84-40f6-9790-2f88b292df24",
   "metadata": {},
   "outputs": [],
   "source": [
    "spark.stop()\n"
   ]
  }
 ],
 "metadata": {
  "jupytext": {
   "cell_metadata_filter": "title,incorrectly_encoded_metadata,-all",
   "main_language": "python",
   "notebook_metadata_filter": "-all"
  },
  "kernelspec": {
   "display_name": "Python 3 (ipykernel)",
   "language": "python",
   "name": "python3"
  },
  "language_info": {
   "codemirror_mode": {
    "name": "ipython",
    "version": 3
   },
   "file_extension": ".py",
   "mimetype": "text/x-python",
   "name": "python",
   "nbconvert_exporter": "python",
   "pygments_lexer": "ipython3",
   "version": "3.11.5"
  }
 },
 "nbformat": 4,
 "nbformat_minor": 5
}
