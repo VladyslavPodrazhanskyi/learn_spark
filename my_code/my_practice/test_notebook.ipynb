{
 "cells": [
  {
   "cell_type": "code",
   "execution_count": 26,
   "id": "9f6c4dde-2fcd-452b-89e6-7cc2f2086257",
   "metadata": {},
   "outputs": [],
   "source": [
    "import random\n",
    "import math\n",
    "\n",
    "import sys\n",
    "\n",
    "# Add the path to your module's directory\n",
    "sys.path.append('/home/vladyslav_podrazhanskyi/projects/PERSONAL/python/learn_spark')\n",
    "\n",
    "# Now you can import your \n",
    "from my_code.utils import ROOT"
   ]
  },
  {
   "cell_type": "code",
   "execution_count": 27,
   "id": "c939d9d9-ed6d-4599-a271-94a5e4593469",
   "metadata": {},
   "outputs": [
    {
     "name": "stdout",
     "output_type": "stream",
     "text": [
      "/home/vladyslav_podrazhanskyi/projects/PERSONAL/python/learn_spark\n"
     ]
    }
   ],
   "source": [
    "print(ROOT)"
   ]
  },
  {
   "cell_type": "code",
   "execution_count": 28,
   "id": "46932798-2164-44d9-9855-4749a58ceb2d",
   "metadata": {},
   "outputs": [
    {
     "name": "stdout",
     "output_type": "stream",
     "text": [
      "hello\n"
     ]
    }
   ],
   "source": [
    "print('hello')"
   ]
  },
  {
   "cell_type": "code",
   "execution_count": 29,
   "id": "373311bb-fa84-4f1f-8ca9-53eaea6ee517",
   "metadata": {},
   "outputs": [
    {
     "name": "stdout",
     "output_type": "stream",
     "text": [
      "<class 'float'>\n"
     ]
    }
   ],
   "source": [
    "print(type(5/6))"
   ]
  },
  {
   "cell_type": "code",
   "execution_count": 30,
   "id": "a7c60ab1-29ab-48de-8d44-9dbad845e11c",
   "metadata": {},
   "outputs": [
    {
     "name": "stdout",
     "output_type": "stream",
     "text": [
      "1\n"
     ]
    }
   ],
   "source": [
    "data = [1, 2, 3]\n",
    "print(random.choice(data))"
   ]
  },
  {
   "cell_type": "code",
   "execution_count": 31,
   "id": "56243534-5854-4ce2-baae-5deee98fa65d",
   "metadata": {},
   "outputs": [
    {
     "name": "stdout",
     "output_type": "stream",
     "text": [
      "3.141592653589793\n"
     ]
    }
   ],
   "source": [
    "print(math.pi)"
   ]
  }
 ],
 "metadata": {
  "kernelspec": {
   "display_name": "Python 3 (ipykernel)",
   "language": "python",
   "name": "python3"
  },
  "language_info": {
   "codemirror_mode": {
    "name": "ipython",
    "version": 3
   },
   "file_extension": ".py",
   "mimetype": "text/x-python",
   "name": "python",
   "nbconvert_exporter": "python",
   "pygments_lexer": "ipython3",
   "version": "3.11.5"
  }
 },
 "nbformat": 4,
 "nbformat_minor": 5
}
